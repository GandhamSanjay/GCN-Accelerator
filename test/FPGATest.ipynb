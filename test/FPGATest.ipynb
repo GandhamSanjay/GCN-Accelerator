{
 "cells": [
  {
   "cell_type": "code",
   "execution_count": 34,
   "id": "6fad79dd",
   "metadata": {},
   "outputs": [],
   "source": [
    "import os\n",
    "from numpy import binary_repr"
   ]
  },
  {
   "cell_type": "code",
   "execution_count": 2,
   "id": "9c52b8fd",
   "metadata": {},
   "outputs": [],
   "source": [
    "fw = os.open('/dev/xdma0_h2c_0', os.O_WRONLY)"
   ]
  },
  {
   "cell_type": "code",
   "execution_count": 3,
   "id": "156c13d0",
   "metadata": {},
   "outputs": [],
   "source": [
    "def stringToBytes(s):\n",
    "    a = bytearray(b'')\n",
    "    if(len(s)%8 != 0):\n",
    "        return a\n",
    "    for i in range(0, len(s), 8):\n",
    "        a.append((int(s[i : i + 8][::-1], 2)))\n",
    "    return a"
   ]
  },
  {
   "cell_type": "code",
   "execution_count": 4,
   "id": "e34337a6",
   "metadata": {},
   "outputs": [],
   "source": [
    "ram = open('ram.txt', 'r')\n",
    "ramline = ram.readline()"
   ]
  },
  {
   "cell_type": "code",
   "execution_count": 5,
   "id": "e19ed8a6",
   "metadata": {},
   "outputs": [],
   "source": [
    "ramByte = stringToBytes(ramline)"
   ]
  },
  {
   "cell_type": "code",
   "execution_count": 6,
   "id": "f276b389",
   "metadata": {},
   "outputs": [
    {
     "data": {
      "text/plain": [
       "1056"
      ]
     },
     "execution_count": 6,
     "metadata": {},
     "output_type": "execute_result"
    }
   ],
   "source": [
    "os.pwrite(fw,ramByte, 0x0)"
   ]
  },
  {
   "cell_type": "code",
   "execution_count": 7,
   "id": "05755f7c",
   "metadata": {},
   "outputs": [],
   "source": [
    "baseAddr = (0).to_bytes(1, byteorder='little')\n",
    "instCnt = (8).to_bytes(1, byteorder='little')\n",
    "launch = (1).to_bytes(1, byteorder='little')"
   ]
  },
  {
   "cell_type": "code",
   "execution_count": 8,
   "id": "60488b0b",
   "metadata": {},
   "outputs": [
    {
     "data": {
      "text/plain": [
       "1"
      ]
     },
     "execution_count": 8,
     "metadata": {},
     "output_type": "execute_result"
    }
   ],
   "source": [
    "accOffset = 0x44A00000\n",
    "os.pwrite(fw, baseAddr, accOffset + 0x000c)\n",
    "os.pwrite(fw, instCnt, accOffset + 0x0008)\n",
    "os.pwrite(fw, launch, accOffset + 0x0000)"
   ]
  },
  {
   "cell_type": "code",
   "execution_count": 9,
   "id": "71c541f9",
   "metadata": {},
   "outputs": [],
   "source": [
    "os.close(fw)"
   ]
  },
  {
   "cell_type": "code",
   "execution_count": 10,
   "id": "da0237dc",
   "metadata": {},
   "outputs": [],
   "source": [
    "rd = os.open('/dev/xdma0_c2h_0', os.O_RDONLY)"
   ]
  },
  {
   "cell_type": "code",
   "execution_count": 20,
   "id": "db2db352",
   "metadata": {},
   "outputs": [],
   "source": [
    "b = os.pread(rd, 32,0x0)"
   ]
  },
  {
   "cell_type": "code",
   "execution_count": 15,
   "id": "f1578b0d",
   "metadata": {},
   "outputs": [
    {
     "data": {
      "text/plain": [
       "b'\\x0b\\x00\\x00\\x00!\\x00\\x00\\x00M\\x00\\x00\\x00n\\x00\\x00\\x00\\x00\\x00\\x00\\x00\\x00\\x00\\x00\\x00\\x00\\x00\\x00\\x00\\x00\\x00\\x00\\x00'"
      ]
     },
     "execution_count": 15,
     "metadata": {},
     "output_type": "execute_result"
    }
   ],
   "source": [
    "b"
   ]
  },
  {
   "cell_type": "code",
   "execution_count": 16,
   "id": "b42433c0",
   "metadata": {},
   "outputs": [
    {
     "name": "stdout",
     "output_type": "stream",
     "text": [
      "11\n",
      "33\n",
      "77\n",
      "110\n",
      "0\n",
      "0\n",
      "0\n",
      "0\n"
     ]
    }
   ],
   "source": [
    "s = ''\n",
    "arr = []\n",
    "for idx,i in enumerate(b):\n",
    "    if((idx!=0) & (idx % 4 == 0)):\n",
    "        arr.append(s)\n",
    "        s = ''\n",
    "    s = binary_repr(i,8) + s\n",
    "arr.append(s)\n",
    "#     if(idx%4 == 0):\n",
    "for i in arr:\n",
    "    print(int(i,2))"
   ]
  },
  {
   "cell_type": "code",
   "execution_count": 33,
   "id": "211b23b5",
   "metadata": {},
   "outputs": [],
   "source": [
    "c = os.pread(rd, 128,0x44a00000)"
   ]
  },
  {
   "cell_type": "code",
   "execution_count": 29,
   "id": "da3e153b",
   "metadata": {},
   "outputs": [
    {
     "name": "stdout",
     "output_type": "stream",
     "text": [
      "1\n"
     ]
    }
   ],
   "source": [
    "for i in c:\n",
    "    print(i)"
   ]
  },
  {
   "cell_type": "code",
   "execution_count": null,
   "id": "0bad79ac",
   "metadata": {},
   "outputs": [],
   "source": []
  }
 ],
 "metadata": {
  "kernelspec": {
   "display_name": "Python 3 (ipykernel)",
   "language": "python",
   "name": "python3"
  },
  "language_info": {
   "codemirror_mode": {
    "name": "ipython",
    "version": 3
   },
   "file_extension": ".py",
   "mimetype": "text/x-python",
   "name": "python",
   "nbconvert_exporter": "python",
   "pygments_lexer": "ipython3",
   "version": "3.8.10"
  }
 },
 "nbformat": 4,
 "nbformat_minor": 5
}
