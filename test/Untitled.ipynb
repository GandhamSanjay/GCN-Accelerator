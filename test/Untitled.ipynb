{
 "cells": [
  {
   "cell_type": "code",
   "execution_count": 1,
   "id": "86f93cc0",
   "metadata": {},
   "outputs": [],
   "source": [
    "from numpy import binary_repr\n",
    "import numpy as np\n",
    "import logging\n",
    "import random\n",
    "from scipy.sparse import csr_matrix"
   ]
  },
  {
   "cell_type": "code",
   "execution_count": 2,
   "id": "892451c1",
   "metadata": {},
   "outputs": [],
   "source": [
    "\n",
    "class inst:\n",
    "    def __init__(self):\n",
    "        logging.debug(\"Instruction generator created\")\n",
    "        \n",
    "### Generates load instructions for GCN-Accelerator\n",
    "\n",
    "    def load(self,  dep = '0000', id = 'col', sram_offset = 0, dram_offset = 0, xsize = 0, ysize = 0):\n",
    "        idMap = {'col': '000','row': '001', 'val': '010', 'den': '011', 'out': '100'}\n",
    "        op = '00'\n",
    "        logging.debug(f\"Creating load with \\ndep = {dep}\\nid = {id}\\nsram offset = {sram_offset}\\ndram offset = {dram_offset}\\\n",
    "        \\nxsize = {xsize}\\nysize = {ysize}\")\n",
    "        inst = op[::-1] + dep[::-1] + idMap.get(id)[::-1] + binary_repr(dram_offset, 32)[::-1]+ binary_repr(sram_offset, 16)[::-1]  \n",
    "        logging.debug(f\"inst[63:0] = {inst}\")\n",
    "        inst =  inst + binary_repr(xsize, 7)[::-1] + binary_repr(ysize, 0)[::-1]\n",
    "        inst = inst + '0'*(128-len(inst))\n",
    "        logging.debug(f\"inst[127:0] = {inst}\")\n",
    "        return inst\n",
    "\n",
    "    def spMM(self,  dep = '0000', sram_offset_col = 0, sram_offset_ptr = 0, sram_offset_den = 0, xsize = 0, ysize = 0):\n",
    "        op = '10'\n",
    "        logging.debug(f\"Creating load with \\ndep = {dep}\\nid = {id}\\nsram_offset_col = {sram_offset_col}\\nsram_offset_ptr = {sram_offset_ptr}\\\n",
    "        \\nsram_offset_den = {sram_offset_den}\\nxsize = {xsize}\\nysize = {ysize}\")\n",
    "        inst = op[::-1] + dep[::-1] + binary_repr(sram_offset_col, 16)[::-1] + binary_repr(sram_offset_ptr, 16)[::-1] + binary_repr(sram_offset_den, 16)[::-1]\n",
    "        inst =  inst + binary_repr(xsize, 7)[::-1] + binary_repr(ysize, 7)[::-1]\n",
    "        inst = inst + '0'*(128-len(inst))\n",
    "        logging.debug(f\"inst[127:0] = {inst}\")\n",
    "        return inst\n",
    "\n",
    "    def randLoad(self, count = 1):\n",
    "        instSeq = \"\"\n",
    "        for num in range(count):\n",
    "            instSeq = instSeq + \"000000000\"\n",
    "            for i in range (119):\n",
    "                instSeq = instSeq + str(random.randint(0,1))\n",
    "        return instSeq\n",
    "    \n",
    "    def randSpMM(self, count = 1):\n",
    "        instSeq = \"\"\n",
    "        for num in range(count):\n",
    "            instSeq = instSeq + \"010000000\"\n",
    "            for i in range (119):\n",
    "                instSeq = instSeq + str(random.randint(0,1))\n",
    "        return instSeq"
   ]
  },
  {
   "cell_type": "code",
   "execution_count": 4,
   "id": "547cce50",
   "metadata": {},
   "outputs": [],
   "source": [
    "class data:\n",
    "            \n",
    "    ### Generates data for GCN-Accelerator\n",
    "    def __init__(self):\n",
    "        logging.debug(\"Data generator created\")\n",
    "    def matrixToBinary(self, A):\n",
    "        string_A = ''\n",
    "        for i in A:\n",
    "            for j in i:\n",
    "                string_A = string_A + binary_repr(j, 32)[::-1]\n",
    "        return string_A\n",
    "    def arrayToBinary(self, A):\n",
    "        string_A = ''\n",
    "        for i in A:\n",
    "                string_A = string_A + binary_repr(i, 32)[::-1]\n",
    "        return string_A\n"
   ]
  },
  {
   "cell_type": "code",
   "execution_count": 5,
   "id": "d825b0b1",
   "metadata": {},
   "outputs": [],
   "source": [
    "np.random.seed(0)"
   ]
  },
  {
   "cell_type": "code",
   "execution_count": 13,
   "id": "c8b11a18",
   "metadata": {},
   "outputs": [
    {
     "data": {
      "text/plain": [
       "array([[-3, -3],\n",
       "       [ 3, -3]])"
      ]
     },
     "execution_count": 13,
     "metadata": {},
     "output_type": "execute_result"
    }
   ],
   "source": [
    "np.random.choice([3,-3],p=[0.4,0.6], size = (2,2))"
   ]
  },
  {
   "cell_type": "code",
   "execution_count": 14,
   "id": "b91fcfa4",
   "metadata": {},
   "outputs": [
    {
     "name": "stdout",
     "output_type": "stream",
     "text": [
      "Nonzero is 63\n",
      "density is 0.24609375\n",
      "\n",
      "values array is [73 37 72 23 40 21 36 72 73 87 57 93 67 10 76 21  8 73 29 40 15 14 51 54\n",
      " 19 45 73 13 16 39 76  1 75 10  7 75 15 63 18 16  1 79 16 73 14 75 37 67\n",
      " 26 57 61 58 72 32 79 79 37  6 19  7 58 88 39]\n",
      "\n",
      " row array is [ 0  4  8 15 18 21 24 29 36 38 43 45 50 53 57 59 63]\n",
      "\n",
      " col array is [ 3  6 11 15  1  2  9 11  0  2  4  5 10 11 15  0 11 13 10 12 13  2  3  9\n",
      "  0  4  5 14 15  3  5  7  8  9 12 13  2  4  0  5  8 10 14 10 14  0  6  7\n",
      " 13 14  4 10 11  3 10 13 14  4  9  5  6  8 12]\n",
      "\n",
      " den array is [[59 17 20  2]\n",
      " [37 80 28 37]\n",
      " [21 58 33  4]\n",
      " [90 90 44  9]\n",
      " [50 25 12 85]\n",
      " [70 67 99 70]\n",
      " [78 30 15 26]\n",
      " [54 60 47 13]\n",
      " [76 78 16 55]\n",
      " [65 55  7 47]\n",
      " [47 14 59 28]\n",
      " [17  2 89 37]\n",
      " [28  0 23 99]\n",
      " [ 3 24 24 10]\n",
      " [41 54  2 55]\n",
      " [84 77 41 75]]\n",
      "[[12612  9595 11118  6008]\n",
      " [ 5485  6542  8473  5920]\n",
      " [25197 20753 22181 19795]\n",
      " [ 1594  2125  2884  1068]\n",
      " [ 2528   766  2991  4922]\n",
      " [ 8394  8372  3084  3053]\n",
      " [10358  8273  8829 10888]\n",
      " [15655 16862 12518 11722]\n",
      " [ 3465  2445  1251  5415]\n",
      " [ 6627  3426  6653  4303]\n",
      " [ 4005  1778  4335  2814]\n",
      " [13344 10107  5942  5378]\n",
      " [ 7000  2481 10562  9473]\n",
      " [ 8347  7880  8039  5325]\n",
      " [ 1535  1195   205  1403]\n",
      " [12794  9073  3868 10699]]\n"
     ]
    }
   ],
   "source": [
    "def randSP(spDim, denDim):\n",
    "    lis = [0]\n",
    "    lis2 = [0.8]\n",
    "    for i in range(100):\n",
    "        lis.append(np.random.randint(100))\n",
    "        lis2.append((1-lis2[0])/100)\n",
    "    I = np.random.choice(lis,p=lis2, size = (16,16))\n",
    "    print(f\"Nonzero is {np.count_nonzero(I)}\")\n",
    "    print(f\"density is {np.count_nonzero(I)/I.size}\")\n",
    "    Sparse = csr_matrix(I)\n",
    "    val = Sparse.data\n",
    "    col = Sparse.indices\n",
    "    row = Sparse.indptr\n",
    "    W = np.random.randint(100, size = denDim)\n",
    "    O = np.matmul(I,W)\n",
    "    return ((val,col,row), W, O)\n",
    "((val,col,row),den,O) = randSP(spDim = (16,16), denDim = (16,4))\n",
    "print(f\"\\nvalues array is {val}\")\n",
    "print(f\"\\n row array is {row}\")\n",
    "print(f\"\\n col array is {col}\")\n",
    "print(f\"\\n den array is {den}\")\n",
    "print(O)"
   ]
  },
  {
   "cell_type": "code",
   "execution_count": 12,
   "id": "f7ddc419",
   "metadata": {},
   "outputs": [],
   "source": [
    "I = np.array([[0, 11, 0, 0],\n",
    "            [22, 0, 0, 33],\n",
    "            [0, 0, 0, 0],\n",
    "            [0, 44, 0, 0]])\n",
    "W = np.array([[2, 2],\n",
    "            [1, 3],\n",
    "            [3, 1],\n",
    "            [1, 2]])\n",
    "O = np.matmul(I,W)"
   ]
  },
  {
   "cell_type": "code",
   "execution_count": 8,
   "id": "42371420",
   "metadata": {},
   "outputs": [
    {
     "data": {
      "text/plain": [
       "array([[ 11,  33],\n",
       "       [ 77, 110],\n",
       "       [  0,   0],\n",
       "       [ 44, 132]])"
      ]
     },
     "execution_count": 8,
     "metadata": {},
     "output_type": "execute_result"
    }
   ],
   "source": [
    "O"
   ]
  },
  {
   "cell_type": "code",
   "execution_count": 10,
   "id": "cf7fb4c2",
   "metadata": {},
   "outputs": [
    {
     "data": {
      "text/plain": [
       "array([[1, 1],\n",
       "       [1, 1],\n",
       "       [1, 1],\n",
       "       [1, 1]])"
      ]
     },
     "execution_count": 10,
     "metadata": {},
     "output_type": "execute_result"
    }
   ],
   "source": [
    "np.ones(O.shape, dtype =int)"
   ]
  },
  {
   "cell_type": "code",
   "execution_count": 5,
   "id": "bf51a69a",
   "metadata": {},
   "outputs": [],
   "source": [
    "val = np.array([11,22,33,44])\n",
    "col = np.array([1,0,3,1])\n",
    "row = np.array([0,1,3,3,4])\n",
    "den = np.array([[2, 2],\n",
    "            [1, 3],\n",
    "            [3, 1],\n",
    "            [1, 2]])"
   ]
  },
  {
   "cell_type": "code",
   "execution_count": 16,
   "id": "9eb4f0df",
   "metadata": {},
   "outputs": [],
   "source": [
    "dataGen = data()\n",
    "rowBin = dataGen.arrayToBinary(row)\n",
    "colBin = dataGen.arrayToBinary(col)\n",
    "valBin = dataGen.arrayToBinary(val)\n",
    "denBin = dataGen.matrixToBinary(den)\n",
    "rowAddr = pow(2,8)\n",
    "colAddr = 2 * pow(2,8)\n",
    "valAddr = 3 * pow(2,8)\n",
    "denAddr = 4 * pow(2,8)\n",
    "(_,x) = den.shape\n",
    "(y,_) = I.shape\n",
    "instGen = inst()\n",
    "instr = ''\n",
    "instr = instr + instGen.load(xsize = row.size, id = 'row', dram_offset = rowAddr, sram_offset = 0)\n",
    "instr = instr + instGen.load(xsize = col.size, id = 'col', dram_offset = colAddr, sram_offset = 0)\n",
    "instr = instr + instGen.load(xsize = val.size, id = 'val', dram_offset = valAddr, sram_offset = 0)\n",
    "instr = instr + instGen.load(xsize = den.size, id = 'den', dram_offset = denAddr, sram_offset = 0)\n",
    "instr = instr + instGen.spMM(ysize = y, xsize = x)\n",
    "instCount = len(instr)/128\n",
    "while(instCount%4 != 0):\n",
    "    instr = instr + '0'*128\n",
    "    instCount = len(instr)/128\n",
    "dram = instr\n",
    "while((len(dram)/8) != rowAddr):\n",
    "    dram = dram + '0'*32\n",
    "dram = dram + rowBin\n",
    "while((len(dram)/8) != colAddr):\n",
    "    dram = dram + '0'*32\n",
    "dram = dram + colBin\n",
    "while((len(dram)/8) != valAddr):\n",
    "    dram = dram + '0'*32\n",
    "dram = dram + valBin\n",
    "while((len(dram)/8) != denAddr):\n",
    "    dram = dram + '0'*32\n",
    "dram = dram + denBin"
   ]
  },
  {
   "cell_type": "code",
   "execution_count": 21,
   "id": "158e34d0",
   "metadata": {},
   "outputs": [],
   "source": [
    "from numpy import binary_repr\n",
    "import numpy as np\n",
    "import logging\n",
    "import random\n",
    "\n",
    "class inst:\n",
    "    def __init__(self):\n",
    "        logging.debug(\"Instruction generator created\")\n",
    "        \n",
    "### Generates load instructions for GCN-Accelerator\n",
    "\n",
    "    def load(self,  dep = '0000', id = 'col', sram_offset = 0, dram_offset = 0, xsize = 0, ysize = 0):\n",
    "        idMap = {'col': '000','row': '001', 'val': '010', 'den': '011', 'out': '100'}\n",
    "        op = '00'\n",
    "        logging.debug(f\"Creating load with \\ndep = {dep}\\nid = {id}\\nsram offset = {sram_offset}\\ndram offset = {dram_offset}\\\n",
    "        \\nxsize = {xsize}\\nysize = {ysize}\")\n",
    "        inst = op[::-1] + dep[::-1] + idMap.get(id)[::-1] + binary_repr(dram_offset, 32)[::-1]+ binary_repr(sram_offset, 16)[::-1]  \n",
    "        logging.debug(f\"inst[63:0] = {inst}\")\n",
    "        inst =  inst + binary_repr(xsize, 7)[::-1] + binary_repr(ysize, 0)[::-1]\n",
    "        inst = inst + '0'*(128-len(inst))\n",
    "        logging.debug(f\"inst[127:0] = {inst}\")\n",
    "        return inst\n",
    "\n",
    "    def spMM(self,  dep = '0000', sram_offset_col = 0, sram_offset_ptr = 0, sram_offset_den = 0, xsize = 0, ysize = 0):\n",
    "        op = '10'\n",
    "        logging.debug(f\"Creating load with \\ndep = {dep}\\nid = {id}\\nsram_offset_col = {sram_offset_col}\\nsram_offset_ptr = {sram_offset_ptr}\\\n",
    "        \\nsram_offset_den = {sram_offset_den}\\nxsize = {xsize}\\nysize = {ysize}\")\n",
    "        inst = op[::-1] + dep[::-1] + binary_repr(sram_offset_col, 16)[::-1] + binary_repr(sram_offset_ptr, 16)[::-1] + binary_repr(sram_offset_den, 16)[::-1]\n",
    "        inst =  inst + binary_repr(xsize, 7)[::-1] + binary_repr(ysize, 7)[::-1]\n",
    "        inst = inst + '0'*(128-len(inst))\n",
    "        logging.debug(f\"inst[127:0] = {inst}\")\n",
    "        return inst\n",
    "\n",
    "    def randLoad(self, count = 1):\n",
    "        instSeq = \"\"\n",
    "        for num in range(count):\n",
    "            instSeq = instSeq + \"000000000\"\n",
    "            for i in range (119):\n",
    "                instSeq = instSeq + str(random.randint(0,1))\n",
    "        return instSeq\n",
    "    \n",
    "    def randSpMM(self, count = 1):\n",
    "        instSeq = \"\"\n",
    "        for num in range(count):\n",
    "            instSeq = instSeq + \"010000000\"\n",
    "            for i in range (119):\n",
    "                instSeq = instSeq + str(random.randint(0,1))\n",
    "        return instSeq\n",
    "\n",
    "\n",
    "class data:\n",
    "            \n",
    "    ### Generates data for GCN-Accelerator\n",
    "    def __init__(self):\n",
    "        logging.debug(\"Data generator created\")\n",
    "    def matrixToBinary(self, A):\n",
    "        string_A = ''\n",
    "        for i in A:\n",
    "            for j in i:\n",
    "                string_A = string_A + binary_repr(j, 32)[::-1]\n",
    "        return string_A\n",
    "    def arrayToBinary(self, A):\n",
    "        string_A = ''\n",
    "        for i in A:\n",
    "                string_A = string_A + binary_repr(i, 32)[::-1]\n",
    "        return string_A\n",
    "\n",
    "\n",
    "\n",
    "I = np.array([[0, 11, 0, 0],\n",
    "            [22, 0, 0, 33],\n",
    "            [0, 0, 0, 0],\n",
    "            [0, 44, 0, 0]])\n",
    "W = np.array([[2, 2],\n",
    "            [1, 3],\n",
    "            [3, 1],\n",
    "            [1, 2]])\n",
    "O = np.matmul(I,W)\n",
    "val = np.array([11,22,33,44])\n",
    "col = np.array([1,0,3,1])\n",
    "row = np.array([0,1,3,3,4])\n",
    "den = np.array([[2, 2],\n",
    "            [1, 3],\n",
    "            [3, 1],\n",
    "            [1, 2]])\n",
    "dataGen = data()\n",
    "rowBin = dataGen.arrayToBinary(row)\n",
    "colBin = dataGen.arrayToBinary(col)\n",
    "valBin = dataGen.arrayToBinary(val)\n",
    "denBin = dataGen.matrixToBinary(den)\n",
    "rowAddr = pow(2,8)\n",
    "colAddr = 2 * pow(2,8)\n",
    "valAddr = 3 * pow(2,8)\n",
    "denAddr = 4 * pow(2,8)\n",
    "(_,x) = den.shape\n",
    "(y,_) = I.shape\n",
    "instGen = inst()\n",
    "instr = ''\n",
    "instr = instr + instGen.load(xsize = row.size, id = 'row', dram_offset = rowAddr, sram_offset = 0)\n",
    "instr = instr + instGen.load(xsize = col.size, id = 'col', dram_offset = colAddr, sram_offset = 0)\n",
    "instr = instr + instGen.load(xsize = val.size, id = 'val', dram_offset = valAddr, sram_offset = 0)\n",
    "instr = instr + instGen.load(xsize = den.size, id = 'den', dram_offset = denAddr, sram_offset = 0)\n",
    "instr = instr + instGen.spMM(ysize = y, xsize = x)\n",
    "instCount = len(instr)/128\n",
    "while(instCount%4 != 0):\n",
    "    instr = instr + '0'*128\n",
    "    instCount = len(instr)/128\n",
    "dram = instr\n",
    "while((len(dram)/8) != rowAddr):\n",
    "    dram = dram + '0'*32\n",
    "dram = dram + rowBin[::-1]\n",
    "while((len(dram)/8) != colAddr):\n",
    "    dram = dram + '0'*32\n",
    "dram = dram + colBin[::-1]\n",
    "while((len(dram)/8) != valAddr):\n",
    "    dram = dram + '0'*32\n",
    "dram = dram + valBin[::-1]\n",
    "while((len(dram)/8) != denAddr):\n",
    "    dram = dram + '0'*32\n",
    "dram = dram + denBin[::-1]"
   ]
  },
  {
   "cell_type": "code",
   "execution_count": 29,
   "id": "3b4b415d",
   "metadata": {},
   "outputs": [
    {
     "data": {
      "text/plain": [
       "'0x80000000c0000000c000000020000000'"
      ]
     },
     "execution_count": 29,
     "metadata": {},
     "output_type": "execute_result"
    }
   ],
   "source": [
    "hex(int(rowBin, 2))\n"
   ]
  },
  {
   "cell_type": "code",
   "execution_count": 13,
   "id": "3a3b3ace",
   "metadata": {},
   "outputs": [
    {
     "data": {
      "text/plain": [
       "5.0"
      ]
     },
     "execution_count": 13,
     "metadata": {},
     "output_type": "execute_result"
    }
   ],
   "source": [
    "hex(int(rowBin[::-1], 2))"
   ]
  },
  {
   "cell_type": "code",
   "execution_count": null,
   "id": "50d05ec2",
   "metadata": {},
   "outputs": [],
   "source": []
  }
 ],
 "metadata": {
  "kernelspec": {
   "display_name": "Python 3 (ipykernel)",
   "language": "python",
   "name": "python3"
  },
  "language_info": {
   "codemirror_mode": {
    "name": "ipython",
    "version": 3
   },
   "file_extension": ".py",
   "mimetype": "text/x-python",
   "name": "python",
   "nbconvert_exporter": "python",
   "pygments_lexer": "ipython3",
   "version": "3.8.10"
  }
 },
 "nbformat": 4,
 "nbformat_minor": 5
}
