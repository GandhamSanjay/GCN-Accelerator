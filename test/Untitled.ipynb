{
 "cells": [
  {
   "cell_type": "code",
   "execution_count": 2,
   "id": "86f93cc0",
   "metadata": {},
   "outputs": [],
   "source": [
    "from numpy import binary_repr\n",
    "import numpy as np\n",
    "import logging\n",
    "import random\n",
    "from scipy.sparse import csr_matrix"
   ]
  },
  {
   "cell_type": "code",
   "execution_count": 3,
   "id": "892451c1",
   "metadata": {},
   "outputs": [],
   "source": [
    "\n",
    "class inst:\n",
    "    def __init__(self):\n",
    "        logging.debug(\"Instruction generator created\")\n",
    "        \n",
    "### Generates load instructions for GCN-Accelerator\n",
    "\n",
    "    def load(self,  dep = '0000', id = 'col', sram_offset = 0, dram_offset = 0, xsize = 0, ysize = 0):\n",
    "        idMap = {'col': '000','row': '001', 'val': '010', 'den': '011', 'out': '100'}\n",
    "        op = '00'\n",
    "        logging.debug(f\"Creating load with \\ndep = {dep}\\nid = {id}\\nsram offset = {sram_offset}\\ndram offset = {dram_offset}\\\n",
    "        \\nxsize = {xsize}\\nysize = {ysize}\")\n",
    "        inst = op[::-1] + dep[::-1] + idMap.get(id)[::-1] + binary_repr(dram_offset, 32)[::-1]+ binary_repr(sram_offset, 16)[::-1]  \n",
    "        logging.debug(f\"inst[63:0] = {inst}\")\n",
    "        inst =  inst + binary_repr(xsize, 7)[::-1] + binary_repr(ysize, 0)[::-1]\n",
    "        inst = inst + '0'*(128-len(inst))\n",
    "        logging.debug(f\"inst[127:0] = {inst}\")\n",
    "        return inst\n",
    "\n",
    "    def spMM(self,  dep = '0000', sram_offset_col = 0, sram_offset_ptr = 0, sram_offset_den = 0, xsize = 0, ysize = 0):\n",
    "        op = '10'\n",
    "        logging.debug(f\"Creating load with \\ndep = {dep}\\nid = {id}\\nsram_offset_col = {sram_offset_col}\\nsram_offset_ptr = {sram_offset_ptr}\\\n",
    "        \\nsram_offset_den = {sram_offset_den}\\nxsize = {xsize}\\nysize = {ysize}\")\n",
    "        inst = op[::-1] + dep[::-1] + binary_repr(sram_offset_col, 16)[::-1] + binary_repr(sram_offset_ptr, 16)[::-1] + binary_repr(sram_offset_den, 16)[::-1]\n",
    "        inst =  inst + binary_repr(xsize, 7)[::-1] + binary_repr(ysize, 7)[::-1]\n",
    "        inst = inst + '0'*(128-len(inst))\n",
    "        logging.debug(f\"inst[127:0] = {inst}\")\n",
    "        return inst\n",
    "\n",
    "    def randLoad(self, count = 1):\n",
    "        instSeq = \"\"\n",
    "        for num in range(count):\n",
    "            instSeq = instSeq + \"000000000\"\n",
    "            for i in range (119):\n",
    "                instSeq = instSeq + str(random.randint(0,1))\n",
    "        return instSeq\n",
    "    \n",
    "    def randSpMM(self, count = 1):\n",
    "        instSeq = \"\"\n",
    "        for num in range(count):\n",
    "            instSeq = instSeq + \"010000000\"\n",
    "            for i in range (119):\n",
    "                instSeq = instSeq + str(random.randint(0,1))\n",
    "        return instSeq"
   ]
  },
  {
   "cell_type": "code",
   "execution_count": 4,
   "id": "547cce50",
   "metadata": {},
   "outputs": [],
   "source": [
    "class data:\n",
    "            \n",
    "    ### Generates data for GCN-Accelerator\n",
    "    def __init__(self):\n",
    "        logging.debug(\"Data generator created\")\n",
    "    def matrixToBinary(self, A):\n",
    "        string_A = ''\n",
    "        for i in A:\n",
    "            for j in i:\n",
    "                string_A = string_A + binary_repr(j, 32)[::-1]\n",
    "        return string_A\n",
    "    def arrayToBinary(self, A):\n",
    "        string_A = ''\n",
    "        for i in A:\n",
    "                string_A = string_A + binary_repr(i, 32)[::-1]\n",
    "        return string_A\n"
   ]
  },
  {
   "cell_type": "code",
   "execution_count": 28,
   "id": "d825b0b1",
   "metadata": {},
   "outputs": [],
   "source": [
    "np.random.seed(0)"
   ]
  },
  {
   "cell_type": "code",
   "execution_count": 29,
   "id": "c0c0ac42",
   "metadata": {},
   "outputs": [
    {
     "name": "stdout",
     "output_type": "stream",
     "text": [
      "[[0 1 1 0 1 1 1 1]\n",
      " [1 1 1 0 0 1 0 0]\n",
      " [0 0 0 1 0 1 1 0]\n",
      " [0 1 1 1 1 0 1 0]\n",
      " [1 0 1 1 0 1 1 0]\n",
      " [0 1 0 1 1 1 1 1]\n",
      " [0 1 0 1 1 1 1 0]\n",
      " [1 0 0 1 1 0 1 0]]\n",
      "[[55 28 34  0]\n",
      " [ 0 36 53  5]\n",
      " [38 17 79  4]\n",
      " [42 58 31  1]\n",
      " [65 41 57 35]\n",
      " [11 46 82 91]\n",
      " [ 0 14 99 53]\n",
      " [12 42 84 75]]\n",
      "[[126 196 454 263]\n",
      " [104 127 248 100]\n",
      " [ 53 118 212 145]\n",
      " [145 166 319  98]\n",
      " [146 163 325 149]\n",
      " [130 237 406 260]\n",
      " [118 195 322 185]\n",
      " [162 141 221  89]]\n"
     ]
    }
   ],
   "source": [
    "I = np.random.randint(2, size = (8,8))\n",
    "print(I)\n",
    "W = np.random.randint(100, size = (8,4))\n",
    "print(W)\n",
    "O = np.matmul(I,W)\n",
    "print(O)"
   ]
  },
  {
   "cell_type": "code",
   "execution_count": 13,
   "id": "570790f8",
   "metadata": {},
   "outputs": [],
   "source": [
    "Sparse = csr_matrix(I)"
   ]
  },
  {
   "cell_type": "code",
   "execution_count": 17,
   "id": "b91fcfa4",
   "metadata": {},
   "outputs": [
    {
     "name": "stdout",
     "output_type": "stream",
     "text": [
      "[1 1 1 1 1 1 1 1 1 1 1 1 1 1 1 1 1 1 1 1 1 1 1 1 1 1 1 1 1 1 1 1 1]\n",
      "[ 0  4  7 12 15 19 21 27 33]\n",
      "[0 1 2 6 3 4 5 0 1 2 3 6 2 4 6 0 2 4 7 3 4 1 2 3 5 6 7 0 2 3 4 5 6]\n",
      "[[85 27 36 70]\n",
      " [73 61 99 47]\n",
      " [71 27  8 66]\n",
      " [73 19 45 84]\n",
      " [77 29 60 60]\n",
      " [87 17 26 12]\n",
      " [46 35 48 61]\n",
      " [64 49 27 27]]\n",
      "[[275 150 191 244]\n",
      " [237  65 131 156]\n",
      " [348 169 236 328]\n",
      " [194  91 116 187]\n",
      " [297 132 131 223]\n",
      " [150  48 105 144]\n",
      " [414 208 253 297]\n",
      " [439 154 223 353]]\n"
     ]
    }
   ],
   "source": [
    "def randSP(spDim, denDim):\n",
    "    I = np.random.randint(2, size = spDim)\n",
    "    Sparse = csr_matrix(I)\n",
    "    val = Sparse.data\n",
    "    col = Sparse.indices\n",
    "    row = Sparse.indptr\n",
    "    W = np.random.randint(100, size = denDim)\n",
    "    O = np.matmul(I,W)\n",
    "    return ((val,col,row), W, O)\n",
    "((val,col,row),den,O) = randSP(spDim = (8,8), denDim = (8,4))\n",
    "print(val)\n",
    "print(row)\n",
    "print(col)\n",
    "print(den)\n",
    "print(O)"
   ]
  },
  {
   "cell_type": "code",
   "execution_count": 12,
   "id": "f7ddc419",
   "metadata": {},
   "outputs": [],
   "source": [
    "I = np.array([[0, 11, 0, 0],\n",
    "            [22, 0, 0, 33],\n",
    "            [0, 0, 0, 0],\n",
    "            [0, 44, 0, 0]])\n",
    "W = np.array([[2, 2],\n",
    "            [1, 3],\n",
    "            [3, 1],\n",
    "            [1, 2]])\n",
    "O = np.matmul(I,W)"
   ]
  },
  {
   "cell_type": "code",
   "execution_count": 8,
   "id": "42371420",
   "metadata": {},
   "outputs": [
    {
     "data": {
      "text/plain": [
       "array([[ 11,  33],\n",
       "       [ 77, 110],\n",
       "       [  0,   0],\n",
       "       [ 44, 132]])"
      ]
     },
     "execution_count": 8,
     "metadata": {},
     "output_type": "execute_result"
    }
   ],
   "source": [
    "O"
   ]
  },
  {
   "cell_type": "code",
   "execution_count": 10,
   "id": "cf7fb4c2",
   "metadata": {},
   "outputs": [
    {
     "data": {
      "text/plain": [
       "array([[1, 1],\n",
       "       [1, 1],\n",
       "       [1, 1],\n",
       "       [1, 1]])"
      ]
     },
     "execution_count": 10,
     "metadata": {},
     "output_type": "execute_result"
    }
   ],
   "source": [
    "np.ones(O.shape, dtype =int)"
   ]
  },
  {
   "cell_type": "code",
   "execution_count": 5,
   "id": "bf51a69a",
   "metadata": {},
   "outputs": [],
   "source": [
    "val = np.array([11,22,33,44])\n",
    "col = np.array([1,0,3,1])\n",
    "row = np.array([0,1,3,3,4])\n",
    "den = np.array([[2, 2],\n",
    "            [1, 3],\n",
    "            [3, 1],\n",
    "            [1, 2]])"
   ]
  },
  {
   "cell_type": "code",
   "execution_count": 16,
   "id": "9eb4f0df",
   "metadata": {},
   "outputs": [],
   "source": [
    "dataGen = data()\n",
    "rowBin = dataGen.arrayToBinary(row)\n",
    "colBin = dataGen.arrayToBinary(col)\n",
    "valBin = dataGen.arrayToBinary(val)\n",
    "denBin = dataGen.matrixToBinary(den)\n",
    "rowAddr = pow(2,8)\n",
    "colAddr = 2 * pow(2,8)\n",
    "valAddr = 3 * pow(2,8)\n",
    "denAddr = 4 * pow(2,8)\n",
    "(_,x) = den.shape\n",
    "(y,_) = I.shape\n",
    "instGen = inst()\n",
    "instr = ''\n",
    "instr = instr + instGen.load(xsize = row.size, id = 'row', dram_offset = rowAddr, sram_offset = 0)\n",
    "instr = instr + instGen.load(xsize = col.size, id = 'col', dram_offset = colAddr, sram_offset = 0)\n",
    "instr = instr + instGen.load(xsize = val.size, id = 'val', dram_offset = valAddr, sram_offset = 0)\n",
    "instr = instr + instGen.load(xsize = den.size, id = 'den', dram_offset = denAddr, sram_offset = 0)\n",
    "instr = instr + instGen.spMM(ysize = y, xsize = x)\n",
    "instCount = len(instr)/128\n",
    "while(instCount%4 != 0):\n",
    "    instr = instr + '0'*128\n",
    "    instCount = len(instr)/128\n",
    "dram = instr\n",
    "while((len(dram)/8) != rowAddr):\n",
    "    dram = dram + '0'*32\n",
    "dram = dram + rowBin\n",
    "while((len(dram)/8) != colAddr):\n",
    "    dram = dram + '0'*32\n",
    "dram = dram + colBin\n",
    "while((len(dram)/8) != valAddr):\n",
    "    dram = dram + '0'*32\n",
    "dram = dram + valBin\n",
    "while((len(dram)/8) != denAddr):\n",
    "    dram = dram + '0'*32\n",
    "dram = dram + denBin"
   ]
  },
  {
   "cell_type": "code",
   "execution_count": 21,
   "id": "158e34d0",
   "metadata": {},
   "outputs": [],
   "source": [
    "from numpy import binary_repr\n",
    "import numpy as np\n",
    "import logging\n",
    "import random\n",
    "\n",
    "class inst:\n",
    "    def __init__(self):\n",
    "        logging.debug(\"Instruction generator created\")\n",
    "        \n",
    "### Generates load instructions for GCN-Accelerator\n",
    "\n",
    "    def load(self,  dep = '0000', id = 'col', sram_offset = 0, dram_offset = 0, xsize = 0, ysize = 0):\n",
    "        idMap = {'col': '000','row': '001', 'val': '010', 'den': '011', 'out': '100'}\n",
    "        op = '00'\n",
    "        logging.debug(f\"Creating load with \\ndep = {dep}\\nid = {id}\\nsram offset = {sram_offset}\\ndram offset = {dram_offset}\\\n",
    "        \\nxsize = {xsize}\\nysize = {ysize}\")\n",
    "        inst = op[::-1] + dep[::-1] + idMap.get(id)[::-1] + binary_repr(dram_offset, 32)[::-1]+ binary_repr(sram_offset, 16)[::-1]  \n",
    "        logging.debug(f\"inst[63:0] = {inst}\")\n",
    "        inst =  inst + binary_repr(xsize, 7)[::-1] + binary_repr(ysize, 0)[::-1]\n",
    "        inst = inst + '0'*(128-len(inst))\n",
    "        logging.debug(f\"inst[127:0] = {inst}\")\n",
    "        return inst\n",
    "\n",
    "    def spMM(self,  dep = '0000', sram_offset_col = 0, sram_offset_ptr = 0, sram_offset_den = 0, xsize = 0, ysize = 0):\n",
    "        op = '10'\n",
    "        logging.debug(f\"Creating load with \\ndep = {dep}\\nid = {id}\\nsram_offset_col = {sram_offset_col}\\nsram_offset_ptr = {sram_offset_ptr}\\\n",
    "        \\nsram_offset_den = {sram_offset_den}\\nxsize = {xsize}\\nysize = {ysize}\")\n",
    "        inst = op[::-1] + dep[::-1] + binary_repr(sram_offset_col, 16)[::-1] + binary_repr(sram_offset_ptr, 16)[::-1] + binary_repr(sram_offset_den, 16)[::-1]\n",
    "        inst =  inst + binary_repr(xsize, 7)[::-1] + binary_repr(ysize, 7)[::-1]\n",
    "        inst = inst + '0'*(128-len(inst))\n",
    "        logging.debug(f\"inst[127:0] = {inst}\")\n",
    "        return inst\n",
    "\n",
    "    def randLoad(self, count = 1):\n",
    "        instSeq = \"\"\n",
    "        for num in range(count):\n",
    "            instSeq = instSeq + \"000000000\"\n",
    "            for i in range (119):\n",
    "                instSeq = instSeq + str(random.randint(0,1))\n",
    "        return instSeq\n",
    "    \n",
    "    def randSpMM(self, count = 1):\n",
    "        instSeq = \"\"\n",
    "        for num in range(count):\n",
    "            instSeq = instSeq + \"010000000\"\n",
    "            for i in range (119):\n",
    "                instSeq = instSeq + str(random.randint(0,1))\n",
    "        return instSeq\n",
    "\n",
    "\n",
    "class data:\n",
    "            \n",
    "    ### Generates data for GCN-Accelerator\n",
    "    def __init__(self):\n",
    "        logging.debug(\"Data generator created\")\n",
    "    def matrixToBinary(self, A):\n",
    "        string_A = ''\n",
    "        for i in A:\n",
    "            for j in i:\n",
    "                string_A = string_A + binary_repr(j, 32)[::-1]\n",
    "        return string_A\n",
    "    def arrayToBinary(self, A):\n",
    "        string_A = ''\n",
    "        for i in A:\n",
    "                string_A = string_A + binary_repr(i, 32)[::-1]\n",
    "        return string_A\n",
    "\n",
    "\n",
    "\n",
    "I = np.array([[0, 11, 0, 0],\n",
    "            [22, 0, 0, 33],\n",
    "            [0, 0, 0, 0],\n",
    "            [0, 44, 0, 0]])\n",
    "W = np.array([[2, 2],\n",
    "            [1, 3],\n",
    "            [3, 1],\n",
    "            [1, 2]])\n",
    "O = np.matmul(I,W)\n",
    "val = np.array([11,22,33,44])\n",
    "col = np.array([1,0,3,1])\n",
    "row = np.array([0,1,3,3,4])\n",
    "den = np.array([[2, 2],\n",
    "            [1, 3],\n",
    "            [3, 1],\n",
    "            [1, 2]])\n",
    "dataGen = data()\n",
    "rowBin = dataGen.arrayToBinary(row)\n",
    "colBin = dataGen.arrayToBinary(col)\n",
    "valBin = dataGen.arrayToBinary(val)\n",
    "denBin = dataGen.matrixToBinary(den)\n",
    "rowAddr = pow(2,8)\n",
    "colAddr = 2 * pow(2,8)\n",
    "valAddr = 3 * pow(2,8)\n",
    "denAddr = 4 * pow(2,8)\n",
    "(_,x) = den.shape\n",
    "(y,_) = I.shape\n",
    "instGen = inst()\n",
    "instr = ''\n",
    "instr = instr + instGen.load(xsize = row.size, id = 'row', dram_offset = rowAddr, sram_offset = 0)\n",
    "instr = instr + instGen.load(xsize = col.size, id = 'col', dram_offset = colAddr, sram_offset = 0)\n",
    "instr = instr + instGen.load(xsize = val.size, id = 'val', dram_offset = valAddr, sram_offset = 0)\n",
    "instr = instr + instGen.load(xsize = den.size, id = 'den', dram_offset = denAddr, sram_offset = 0)\n",
    "instr = instr + instGen.spMM(ysize = y, xsize = x)\n",
    "instCount = len(instr)/128\n",
    "while(instCount%4 != 0):\n",
    "    instr = instr + '0'*128\n",
    "    instCount = len(instr)/128\n",
    "dram = instr\n",
    "while((len(dram)/8) != rowAddr):\n",
    "    dram = dram + '0'*32\n",
    "dram = dram + rowBin[::-1]\n",
    "while((len(dram)/8) != colAddr):\n",
    "    dram = dram + '0'*32\n",
    "dram = dram + colBin[::-1]\n",
    "while((len(dram)/8) != valAddr):\n",
    "    dram = dram + '0'*32\n",
    "dram = dram + valBin[::-1]\n",
    "while((len(dram)/8) != denAddr):\n",
    "    dram = dram + '0'*32\n",
    "dram = dram + denBin[::-1]"
   ]
  },
  {
   "cell_type": "code",
   "execution_count": 29,
   "id": "3b4b415d",
   "metadata": {},
   "outputs": [
    {
     "data": {
      "text/plain": [
       "'0x80000000c0000000c000000020000000'"
      ]
     },
     "execution_count": 29,
     "metadata": {},
     "output_type": "execute_result"
    }
   ],
   "source": [
    "hex(int(rowBin, 2))\n"
   ]
  },
  {
   "cell_type": "code",
   "execution_count": 13,
   "id": "3a3b3ace",
   "metadata": {},
   "outputs": [
    {
     "data": {
      "text/plain": [
       "5.0"
      ]
     },
     "execution_count": 13,
     "metadata": {},
     "output_type": "execute_result"
    }
   ],
   "source": [
    "hex(int(rowBin[::-1], 2))"
   ]
  },
  {
   "cell_type": "code",
   "execution_count": null,
   "id": "50d05ec2",
   "metadata": {},
   "outputs": [],
   "source": []
  }
 ],
 "metadata": {
  "kernelspec": {
   "display_name": "Python 3 (ipykernel)",
   "language": "python",
   "name": "python3"
  },
  "language_info": {
   "codemirror_mode": {
    "name": "ipython",
    "version": 3
   },
   "file_extension": ".py",
   "mimetype": "text/x-python",
   "name": "python",
   "nbconvert_exporter": "python",
   "pygments_lexer": "ipython3",
   "version": "3.8.10"
  }
 },
 "nbformat": 4,
 "nbformat_minor": 5
}
